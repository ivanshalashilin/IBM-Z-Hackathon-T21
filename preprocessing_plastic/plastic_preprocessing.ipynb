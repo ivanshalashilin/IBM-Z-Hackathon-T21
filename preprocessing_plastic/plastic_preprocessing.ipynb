{
 "cells": [
  {
   "cell_type": "markdown",
   "id": "a765c14a-7ae5-4d2a-9100-2bacaef4a89f",
   "metadata": {},
   "source": [
    "# Preprocessing Input Images of Marine Plastic\n",
    "This notebook summarises the steps performed to preprocess the marine plastic images.\n",
    "The dataset was sourced from [DeepData](https://drive.google.com/drive/folders/1fsS_u2QpbRGynYkP6-D6cfvq8r0hpjXI).\n",
    "\n",
    "Boundary boxes to locate objects within the figures were determined using YoloV5. The images, all containing marine plastic, can be found in `Images` and the corresponding boundary boxes in `Labels`.\n",
    "\n",
    "We preprocess the datasets to deal with the different figure sizes and the fact that the marine plastic and jelly fish datasets come from different sources. Firstly, a symmetric padding layer is added to make the figure sizes square. Secondly, the pixel numbers are rescaled to 100 x 100.\n"
   ]
  },
  {
   "cell_type": "code",
   "execution_count": 30,
   "id": "124d2e24-666e-4b67-9e31-a43b2889f8b9",
   "metadata": {},
   "outputs": [],
   "source": [
    "# Importing packages, pip install missing packages\n",
    "\n",
    "import os\n",
    "import matplotlib.pyplot as plt\n",
    "from PIL import Image, ImageDraw\n",
    "import numpy as np\n",
    "import matplotlib.pyplot as plt\n",
    "from skimage.transform import resize\n",
    "from tqdm import tqdm\n",
    "\n"
   ]
  },
  {
   "cell_type": "code",
   "execution_count": 31,
   "id": "23714b02-53ca-4030-9ad8-ad3ce5ae8d3a",
   "metadata": {
    "editable": true,
    "slideshow": {
     "slide_type": ""
    },
    "tags": []
   },
   "outputs": [],
   "source": [
    "# Define auxilary functions\n",
    "\n",
    "def read_label_file(label_file_path, img_width, img_height):\n",
    "    boxes = []\n",
    "    with open(label_file_path, 'r') as f:\n",
    "        lines = f.readlines()\n",
    "        for line in lines:\n",
    "            class_id, x_center, y_center, width, height = map(float, line.strip().split())\n",
    "            xmin = int((x_center - width / 2) * img_width)\n",
    "            xmax = int((x_center + width / 2) * img_width)\n",
    "            ymin = int((y_center - height / 2) * img_height)\n",
    "            ymax = int((y_center + height / 2) * img_height)\n",
    "            boxes.append((xmin, ymin, xmax, ymax))\n",
    "    return boxes\n",
    "\n",
    "def crop_figure(image_path, label_file_path):\n",
    "    img = Image.open(image_path)\n",
    "    img_array = np.array(img)\n",
    "    img_width, img_height = img.size\n",
    "    boxes = read_label_file(label_file_path, img_width, img_height)\n",
    "\n",
    "    cropped_images = []\n",
    "    for box in boxes:\n",
    "        xmin, ymin, xmax, ymax = box\n",
    "        cropped_images.append(img_array[ymin:ymax, xmin:xmax])\n",
    "    return cropped_images\n",
    "\n",
    "def rescale_image(image_array, new_shape=(100, 100)):\n",
    "    rescaled_image = resize(image_array, (new_shape[0], new_shape[1], image_array.shape[2]), anti_aliasing=True)\n",
    "    rescaled_image = (rescaled_image * 255).astype(np.uint8)\n",
    "    return rescaled_image\n",
    "\n",
    "def add_padding(img):\n",
    "    height, width, channels = img.shape\n",
    "    \n",
    "    # Calculate padding needed to make the image square\n",
    "    pad_vertical = abs(height - width) // 2\n",
    "    pad_horizontal = abs(height - width) - pad_vertical\n",
    "\n",
    "    if height > width:\n",
    "        return np.pad(img, ((0, 0), (pad_vertical, pad_horizontal), (0, 0)), 'constant', constant_values=0)\n",
    "    else:\n",
    "        return np.pad(img, ((pad_vertical, pad_horizontal), (0, 0), (0, 0)), 'constant', constant_values=0)\n",
    "\n",
    "def plot_figures(img,img_padded,img_rescaled):\n",
    "    fig, axes = plt.subplots(1, 3)\n",
    "    \n",
    "    axes[0].imshow(img)\n",
    "    axes[0].set_title('Original Image')\n",
    "    axes[0].axis('off')\n",
    "    \n",
    "    axes[1].imshow(img_padded)\n",
    "    axes[1].set_title('Padded Image')\n",
    "    axes[1].axis('off')\n",
    "    \n",
    "    axes[2].imshow(img_rescaled)\n",
    "    axes[2].set_title('Rescaled Image')\n",
    "    axes[2].axis('off')\n",
    "            "
   ]
  },
  {
   "cell_type": "code",
   "execution_count": 33,
   "id": "1f14b0df-783b-4bb5-82ca-b3b00bfd3fb5",
   "metadata": {
    "editable": true,
    "slideshow": {
     "slide_type": ""
    },
    "tags": []
   },
   "outputs": [
    {
     "name": "stderr",
     "output_type": "stream",
     "text": [
      "100%|██████████| 624/624 [00:07<00:00, 79.47it/s] \n"
     ]
    }
   ],
   "source": [
    "# Preprocess all images\n",
    "\n",
    "all_files = os.listdir('Images/')\n",
    "filenames = sorted([f.split('.jpg')[0] for f in all_files if f.endswith('.jpg')])\n",
    "\n",
    "plastic_images = []\n",
    "\n",
    "for fn in tqdm(filenames): #filenames[:50]\n",
    "    img_path = f'Images/{fn}.jpg'\n",
    "    label_path = f'Labels/{fn}.txt'\n",
    "    \n",
    "    cropped_images = crop_figure(img_path,label_path)\n",
    "\n",
    "     # Loop through the boundary boxes\n",
    "    for img in cropped_images:\n",
    "        width, height, rgb = img.shape\n",
    "        if width < 50 or height< 50: continue\n",
    "\n",
    "        img_padded = add_padding(img)\n",
    "        img_rescaled = rescale_image(img_padded)\n",
    "        # plot_figures(img,img_padded,img_rescaled) # To plot all image preprocessing; e.g. loop through filenames[:10] \n",
    "        plastic_images.append(img_rescaled)\n",
    "\n",
    "# Save data\n",
    "np.save('plastic_images.npy', plastic_images)\n",
    "\n",
    "labels = ['plastic']*len(plastic_images)\n",
    "np.save('labels.npy', labels)\n"
   ]
  }
 ],
 "metadata": {
  "kernelspec": {
   "display_name": "Python 3 (ipykernel)",
   "language": "python",
   "name": "python3"
  },
  "language_info": {
   "codemirror_mode": {
    "name": "ipython",
    "version": 3
   },
   "file_extension": ".py",
   "mimetype": "text/x-python",
   "name": "python",
   "nbconvert_exporter": "python",
   "pygments_lexer": "ipython3",
   "version": "3.10.0"
  }
 },
 "nbformat": 4,
 "nbformat_minor": 5
}
